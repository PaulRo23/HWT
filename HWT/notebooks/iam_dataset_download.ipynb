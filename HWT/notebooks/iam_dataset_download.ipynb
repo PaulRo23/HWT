{
 "cells": [
  {
   "cell_type": "markdown",
   "id": "7406d0a8-37ec-4e18-b095-f6430abe487d",
   "metadata": {},
   "source": [
    "## Credentials"
   ]
  },
  {
   "cell_type": "code",
   "execution_count": null,
   "id": "cea9d6ee-026a-4ac5-9793-2c08b1d5734d",
   "metadata": {},
   "outputs": [],
   "source": [
    "USER = \"*******\"\n",
    "PASSWORD = \"*******\""
   ]
  },
  {
   "cell_type": "markdown",
   "id": "2fad491e-f7f1-4e8b-a020-749ef8fde9e7",
   "metadata": {},
   "source": [
    "## Login and download files [\"lines.tgz\", \"ascii.tgz\", \"splits.zip\"] from below address"
   ]
  },
  {
   "cell_type": "code",
   "execution_count": null,
   "id": "2a625959-cf53-4072-a523-3fe3b7f8e546",
   "metadata": {},
   "outputs": [],
   "source": [
    "wget --save-cookies cookies.txt \\\n",
    "     --keep-session-cookies \\\n",
    "     --post-data 'email=$USER&password=$PASSWORD' \\\n",
    "     --delete-after \\\n",
    "     https://fki.tic.heia-fr.ch/login"
   ]
  },
  {
   "cell_type": "code",
   "execution_count": null,
   "id": "5f7b2e56-da8d-478c-b607-a69461f1bbc5",
   "metadata": {},
   "outputs": [],
   "source": [
    "wget --load-cookies cookies.txt https://fki.tic.heia-fr.ch/DBs/iamDB/data/lines.tgz"
   ]
  },
  {
   "cell_type": "code",
   "execution_count": null,
   "id": "fc5174a2-29c2-484f-8a08-5a240ab90eaa",
   "metadata": {},
   "outputs": [],
   "source": [
    "wget --load-cookies cookies.txt https://fki.tic.heia-fr.ch/DBs/iamDB/data/ascii.tgz"
   ]
  },
  {
   "cell_type": "markdown",
   "id": "9f6d6c44-6248-499a-925c-5fc0fd933114",
   "metadata": {},
   "source": [
    "## Aachen's partition to compare with published results"
   ]
  },
  {
   "cell_type": "code",
   "execution_count": null,
   "id": "60851447-5f6f-41db-885d-3266539866a1",
   "metadata": {},
   "outputs": [],
   "source": [
    "wget https://www.openslr.org/resources/56/splits.zip"
   ]
  },
  {
   "cell_type": "markdown",
   "id": "0d7819f2-2d07-49d1-abdd-9c82ecb7dd8c",
   "metadata": {},
   "source": [
    "## Extract and store dataset in required directory structure"
   ]
  },
  {
   "cell_type": "code",
   "execution_count": null,
   "id": "16f16a8b-d5f7-4341-9378-bf832df12da8",
   "metadata": {},
   "outputs": [],
   "source": [
    "mkdir ../data/lines\n",
    "mkdir ../data/LWRT\n",
    "tar xf lines.tgz -C ../data/lines\n",
    "tar xf ascii.tgz\n",
    "unzip splits.zip\n",
    "mv splits/train.uttlist ../data/LWRT/\n",
    "mv splits/test.uttlist ../data/LWRT/\n",
    "mv splits/validation.uttlist ../data/LWRT/"
   ]
  }
 ],
 "metadata": {
  "environment": {
   "kernel": "python3",
   "name": "tf2-gpu.2-8.m91",
   "type": "gcloud",
   "uri": "gcr.io/deeplearning-platform-release/tf2-gpu.2-8:m91"
  },
  "kernelspec": {
   "display_name": "Python 3",
   "language": "python",
   "name": "python3"
  },
  "language_info": {
   "codemirror_mode": {
    "name": "ipython",
    "version": 3
   },
   "file_extension": ".py",
   "mimetype": "text/x-python",
   "name": "python",
   "nbconvert_exporter": "python",
   "pygments_lexer": "ipython3",
   "version": "3.7.12"
  }
 },
 "nbformat": 4,
 "nbformat_minor": 5
}
